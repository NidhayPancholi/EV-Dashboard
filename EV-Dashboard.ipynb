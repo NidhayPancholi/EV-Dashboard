{
  "nbformat": 4,
  "nbformat_minor": 0,
  "metadata": {
    "colab": {
      "name": "Hackathon",
      "provenance": [],
      "collapsed_sections": []
    },
    "kernelspec": {
      "name": "python3",
      "display_name": "Python 3"
    },
    "language_info": {
      "name": "python"
    }
  },
  "cells": [
    {
      "cell_type": "markdown",
      "metadata": {
        "id": "haKSzt1TiKS9"
      },
      "source": [
        "# Uncomment first 2 cells only when doing factory reset. Then comment them out once again"
      ]
    },
    {
      "cell_type": "code",
      "metadata": {
        "id": "Z9q17qZ3hJxv",
        "colab": {
          "base_uri": "https://localhost:8080/"
        },
        "outputId": "62db8c43-30ad-43fc-999f-fe3e9fc66796"
      },
      "source": [
        "!pip install streamlit -q  #only use when doin factory reset\n",
        "!pip install streamlit_folium"
      ],
      "execution_count": null,
      "outputs": [
        {
          "output_type": "stream",
          "text": [
            "\u001b[K     |████████████████████████████████| 7.8MB 3.4MB/s \n",
            "\u001b[K     |████████████████████████████████| 174kB 38.5MB/s \n",
            "\u001b[K     |████████████████████████████████| 4.2MB 23.3MB/s \n",
            "\u001b[K     |████████████████████████████████| 81kB 7.3MB/s \n",
            "\u001b[K     |████████████████████████████████| 112kB 46.4MB/s \n",
            "\u001b[K     |████████████████████████████████| 71kB 7.7MB/s \n",
            "\u001b[K     |████████████████████████████████| 122kB 45.4MB/s \n",
            "\u001b[?25h  Building wheel for blinker (setup.py) ... \u001b[?25l\u001b[?25hdone\n",
            "\u001b[31mERROR: ipykernel 6.0.1 has requirement ipython>=7.23.1, but you'll have ipython 5.5.0 which is incompatible.\u001b[0m\n",
            "\u001b[31mERROR: google-colab 1.0.0 has requirement ipykernel~=4.10, but you'll have ipykernel 6.0.1 which is incompatible.\u001b[0m\n",
            "Collecting streamlit_folium\n",
            "  Downloading https://files.pythonhosted.org/packages/b5/92/a3d2daa3b2dc4377afdd89efc47268dacc964ecf4174334ef936542abf30/streamlit_folium-0.4.0-py3-none-any.whl\n",
            "Collecting folium>=0.11\n",
            "\u001b[?25l  Downloading https://files.pythonhosted.org/packages/c3/83/e8cb37afc2f016a1cf4caab8d22caf7fe4156c4c15230d8abc9c83547e0c/folium-0.12.1-py2.py3-none-any.whl (94kB)\n",
            "\u001b[K     |████████████████████████████████| 102kB 3.0MB/s \n",
            "\u001b[?25hRequirement already satisfied: streamlit>=0.79 in /usr/local/lib/python3.7/dist-packages (from streamlit_folium) (0.84.0)\n",
            "Requirement already satisfied: numpy in /usr/local/lib/python3.7/dist-packages (from folium>=0.11->streamlit_folium) (1.19.5)\n",
            "Requirement already satisfied: jinja2>=2.9 in /usr/local/lib/python3.7/dist-packages (from folium>=0.11->streamlit_folium) (2.11.3)\n",
            "Requirement already satisfied: branca>=0.3.0 in /usr/local/lib/python3.7/dist-packages (from folium>=0.11->streamlit_folium) (0.4.2)\n",
            "Requirement already satisfied: requests in /usr/local/lib/python3.7/dist-packages (from folium>=0.11->streamlit_folium) (2.23.0)\n",
            "Requirement already satisfied: attrs in /usr/local/lib/python3.7/dist-packages (from streamlit>=0.79->streamlit_folium) (21.2.0)\n",
            "Requirement already satisfied: packaging in /usr/local/lib/python3.7/dist-packages (from streamlit>=0.79->streamlit_folium) (20.9)\n",
            "Requirement already satisfied: altair>=3.2.0 in /usr/local/lib/python3.7/dist-packages (from streamlit>=0.79->streamlit_folium) (4.1.0)\n",
            "Requirement already satisfied: pandas>=0.21.0 in /usr/local/lib/python3.7/dist-packages (from streamlit>=0.79->streamlit_folium) (1.1.5)\n",
            "Requirement already satisfied: watchdog; platform_system != \"Darwin\" in /usr/local/lib/python3.7/dist-packages (from streamlit>=0.79->streamlit_folium) (2.1.3)\n",
            "Requirement already satisfied: blinker in /usr/local/lib/python3.7/dist-packages (from streamlit>=0.79->streamlit_folium) (1.4)\n",
            "Requirement already satisfied: validators in /usr/local/lib/python3.7/dist-packages (from streamlit>=0.79->streamlit_folium) (0.18.2)\n",
            "Requirement already satisfied: cachetools>=4.0 in /usr/local/lib/python3.7/dist-packages (from streamlit>=0.79->streamlit_folium) (4.2.2)\n",
            "Requirement already satisfied: base58 in /usr/local/lib/python3.7/dist-packages (from streamlit>=0.79->streamlit_folium) (2.1.0)\n",
            "Requirement already satisfied: pydeck>=0.1.dev5 in /usr/local/lib/python3.7/dist-packages (from streamlit>=0.79->streamlit_folium) (0.6.2)\n",
            "Requirement already satisfied: python-dateutil in /usr/local/lib/python3.7/dist-packages (from streamlit>=0.79->streamlit_folium) (2.8.1)\n",
            "Requirement already satisfied: tzlocal in /usr/local/lib/python3.7/dist-packages (from streamlit>=0.79->streamlit_folium) (1.5.1)\n",
            "Requirement already satisfied: click<8.0,>=7.0 in /usr/local/lib/python3.7/dist-packages (from streamlit>=0.79->streamlit_folium) (7.1.2)\n",
            "Requirement already satisfied: pyarrow; python_version < \"3.9\" in /usr/local/lib/python3.7/dist-packages (from streamlit>=0.79->streamlit_folium) (3.0.0)\n",
            "Requirement already satisfied: gitpython in /usr/local/lib/python3.7/dist-packages (from streamlit>=0.79->streamlit_folium) (3.1.18)\n",
            "Requirement already satisfied: astor in /usr/local/lib/python3.7/dist-packages (from streamlit>=0.79->streamlit_folium) (0.8.1)\n",
            "Requirement already satisfied: pillow>=6.2.0 in /usr/local/lib/python3.7/dist-packages (from streamlit>=0.79->streamlit_folium) (7.1.2)\n",
            "Requirement already satisfied: protobuf!=3.11,>=3.6.0 in /usr/local/lib/python3.7/dist-packages (from streamlit>=0.79->streamlit_folium) (3.12.4)\n",
            "Requirement already satisfied: toml in /usr/local/lib/python3.7/dist-packages (from streamlit>=0.79->streamlit_folium) (0.10.2)\n",
            "Requirement already satisfied: tornado>=5.0 in /usr/local/lib/python3.7/dist-packages (from streamlit>=0.79->streamlit_folium) (5.1.1)\n",
            "Requirement already satisfied: MarkupSafe>=0.23 in /usr/local/lib/python3.7/dist-packages (from jinja2>=2.9->folium>=0.11->streamlit_folium) (2.0.1)\n",
            "Requirement already satisfied: chardet<4,>=3.0.2 in /usr/local/lib/python3.7/dist-packages (from requests->folium>=0.11->streamlit_folium) (3.0.4)\n",
            "Requirement already satisfied: idna<3,>=2.5 in /usr/local/lib/python3.7/dist-packages (from requests->folium>=0.11->streamlit_folium) (2.10)\n",
            "Requirement already satisfied: certifi>=2017.4.17 in /usr/local/lib/python3.7/dist-packages (from requests->folium>=0.11->streamlit_folium) (2021.5.30)\n",
            "Requirement already satisfied: urllib3!=1.25.0,!=1.25.1,<1.26,>=1.21.1 in /usr/local/lib/python3.7/dist-packages (from requests->folium>=0.11->streamlit_folium) (1.24.3)\n",
            "Requirement already satisfied: pyparsing>=2.0.2 in /usr/local/lib/python3.7/dist-packages (from packaging->streamlit>=0.79->streamlit_folium) (2.4.7)\n",
            "Requirement already satisfied: toolz in /usr/local/lib/python3.7/dist-packages (from altair>=3.2.0->streamlit>=0.79->streamlit_folium) (0.11.1)\n",
            "Requirement already satisfied: jsonschema in /usr/local/lib/python3.7/dist-packages (from altair>=3.2.0->streamlit>=0.79->streamlit_folium) (2.6.0)\n",
            "Requirement already satisfied: entrypoints in /usr/local/lib/python3.7/dist-packages (from altair>=3.2.0->streamlit>=0.79->streamlit_folium) (0.3)\n",
            "Requirement already satisfied: pytz>=2017.2 in /usr/local/lib/python3.7/dist-packages (from pandas>=0.21.0->streamlit>=0.79->streamlit_folium) (2018.9)\n",
            "Requirement already satisfied: decorator>=3.4.0 in /usr/local/lib/python3.7/dist-packages (from validators->streamlit>=0.79->streamlit_folium) (4.4.2)\n",
            "Requirement already satisfied: six>=1.4.0 in /usr/local/lib/python3.7/dist-packages (from validators->streamlit>=0.79->streamlit_folium) (1.15.0)\n",
            "Requirement already satisfied: traitlets>=4.3.2 in /usr/local/lib/python3.7/dist-packages (from pydeck>=0.1.dev5->streamlit>=0.79->streamlit_folium) (5.0.5)\n",
            "Requirement already satisfied: ipywidgets>=7.0.0 in /usr/local/lib/python3.7/dist-packages (from pydeck>=0.1.dev5->streamlit>=0.79->streamlit_folium) (7.6.3)\n",
            "Requirement already satisfied: ipykernel>=5.1.2; python_version >= \"3.4\" in /usr/local/lib/python3.7/dist-packages (from pydeck>=0.1.dev5->streamlit>=0.79->streamlit_folium) (6.0.1)\n",
            "Requirement already satisfied: typing-extensions>=3.7.4.0; python_version < \"3.8\" in /usr/local/lib/python3.7/dist-packages (from gitpython->streamlit>=0.79->streamlit_folium) (3.7.4.3)\n",
            "Requirement already satisfied: gitdb<5,>=4.0.1 in /usr/local/lib/python3.7/dist-packages (from gitpython->streamlit>=0.79->streamlit_folium) (4.0.7)\n",
            "Requirement already satisfied: setuptools in /usr/local/lib/python3.7/dist-packages (from protobuf!=3.11,>=3.6.0->streamlit>=0.79->streamlit_folium) (57.0.0)\n",
            "Requirement already satisfied: ipython-genutils in /usr/local/lib/python3.7/dist-packages (from traitlets>=4.3.2->pydeck>=0.1.dev5->streamlit>=0.79->streamlit_folium) (0.2.0)\n",
            "Requirement already satisfied: ipython>=4.0.0; python_version >= \"3.3\" in /usr/local/lib/python3.7/dist-packages (from ipywidgets>=7.0.0->pydeck>=0.1.dev5->streamlit>=0.79->streamlit_folium) (5.5.0)\n",
            "Requirement already satisfied: widgetsnbextension~=3.5.0 in /usr/local/lib/python3.7/dist-packages (from ipywidgets>=7.0.0->pydeck>=0.1.dev5->streamlit>=0.79->streamlit_folium) (3.5.1)\n",
            "Requirement already satisfied: nbformat>=4.2.0 in /usr/local/lib/python3.7/dist-packages (from ipywidgets>=7.0.0->pydeck>=0.1.dev5->streamlit>=0.79->streamlit_folium) (5.1.3)\n",
            "Requirement already satisfied: jupyterlab-widgets>=1.0.0; python_version >= \"3.6\" in /usr/local/lib/python3.7/dist-packages (from ipywidgets>=7.0.0->pydeck>=0.1.dev5->streamlit>=0.79->streamlit_folium) (1.0.0)\n",
            "Requirement already satisfied: jupyter-client in /usr/local/lib/python3.7/dist-packages (from ipykernel>=5.1.2; python_version >= \"3.4\"->pydeck>=0.1.dev5->streamlit>=0.79->streamlit_folium) (5.3.5)\n",
            "Requirement already satisfied: importlib-metadata<4; python_version < \"3.8.0\" in /usr/local/lib/python3.7/dist-packages (from ipykernel>=5.1.2; python_version >= \"3.4\"->pydeck>=0.1.dev5->streamlit>=0.79->streamlit_folium) (3.10.1)\n",
            "Requirement already satisfied: debugpy>=1.0.0 in /usr/local/lib/python3.7/dist-packages (from ipykernel>=5.1.2; python_version >= \"3.4\"->pydeck>=0.1.dev5->streamlit>=0.79->streamlit_folium) (1.0.0)\n",
            "Requirement already satisfied: smmap<5,>=3.0.1 in /usr/local/lib/python3.7/dist-packages (from gitdb<5,>=4.0.1->gitpython->streamlit>=0.79->streamlit_folium) (4.0.0)\n",
            "Requirement already satisfied: prompt-toolkit<2.0.0,>=1.0.4 in /usr/local/lib/python3.7/dist-packages (from ipython>=4.0.0; python_version >= \"3.3\"->ipywidgets>=7.0.0->pydeck>=0.1.dev5->streamlit>=0.79->streamlit_folium) (1.0.18)\n",
            "Requirement already satisfied: simplegeneric>0.8 in /usr/local/lib/python3.7/dist-packages (from ipython>=4.0.0; python_version >= \"3.3\"->ipywidgets>=7.0.0->pydeck>=0.1.dev5->streamlit>=0.79->streamlit_folium) (0.8.1)\n",
            "Requirement already satisfied: pygments in /usr/local/lib/python3.7/dist-packages (from ipython>=4.0.0; python_version >= \"3.3\"->ipywidgets>=7.0.0->pydeck>=0.1.dev5->streamlit>=0.79->streamlit_folium) (2.6.1)\n",
            "Requirement already satisfied: pickleshare in /usr/local/lib/python3.7/dist-packages (from ipython>=4.0.0; python_version >= \"3.3\"->ipywidgets>=7.0.0->pydeck>=0.1.dev5->streamlit>=0.79->streamlit_folium) (0.7.5)\n",
            "Requirement already satisfied: pexpect; sys_platform != \"win32\" in /usr/local/lib/python3.7/dist-packages (from ipython>=4.0.0; python_version >= \"3.3\"->ipywidgets>=7.0.0->pydeck>=0.1.dev5->streamlit>=0.79->streamlit_folium) (4.8.0)\n",
            "Requirement already satisfied: notebook>=4.4.1 in /usr/local/lib/python3.7/dist-packages (from widgetsnbextension~=3.5.0->ipywidgets>=7.0.0->pydeck>=0.1.dev5->streamlit>=0.79->streamlit_folium) (5.3.1)\n",
            "Requirement already satisfied: jupyter-core in /usr/local/lib/python3.7/dist-packages (from nbformat>=4.2.0->ipywidgets>=7.0.0->pydeck>=0.1.dev5->streamlit>=0.79->streamlit_folium) (4.7.1)\n",
            "Requirement already satisfied: pyzmq>=13 in /usr/local/lib/python3.7/dist-packages (from jupyter-client->ipykernel>=5.1.2; python_version >= \"3.4\"->pydeck>=0.1.dev5->streamlit>=0.79->streamlit_folium) (22.1.0)\n",
            "Requirement already satisfied: zipp>=0.5 in /usr/local/lib/python3.7/dist-packages (from importlib-metadata<4; python_version < \"3.8.0\"->ipykernel>=5.1.2; python_version >= \"3.4\"->pydeck>=0.1.dev5->streamlit>=0.79->streamlit_folium) (3.4.1)\n",
            "Requirement already satisfied: wcwidth in /usr/local/lib/python3.7/dist-packages (from prompt-toolkit<2.0.0,>=1.0.4->ipython>=4.0.0; python_version >= \"3.3\"->ipywidgets>=7.0.0->pydeck>=0.1.dev5->streamlit>=0.79->streamlit_folium) (0.2.5)\n",
            "Requirement already satisfied: ptyprocess>=0.5 in /usr/local/lib/python3.7/dist-packages (from pexpect; sys_platform != \"win32\"->ipython>=4.0.0; python_version >= \"3.3\"->ipywidgets>=7.0.0->pydeck>=0.1.dev5->streamlit>=0.79->streamlit_folium) (0.7.0)\n",
            "Requirement already satisfied: nbconvert in /usr/local/lib/python3.7/dist-packages (from notebook>=4.4.1->widgetsnbextension~=3.5.0->ipywidgets>=7.0.0->pydeck>=0.1.dev5->streamlit>=0.79->streamlit_folium) (5.6.1)\n",
            "Requirement already satisfied: Send2Trash in /usr/local/lib/python3.7/dist-packages (from notebook>=4.4.1->widgetsnbextension~=3.5.0->ipywidgets>=7.0.0->pydeck>=0.1.dev5->streamlit>=0.79->streamlit_folium) (1.5.0)\n",
            "Requirement already satisfied: terminado>=0.8.1 in /usr/local/lib/python3.7/dist-packages (from notebook>=4.4.1->widgetsnbextension~=3.5.0->ipywidgets>=7.0.0->pydeck>=0.1.dev5->streamlit>=0.79->streamlit_folium) (0.10.1)\n",
            "Requirement already satisfied: bleach in /usr/local/lib/python3.7/dist-packages (from nbconvert->notebook>=4.4.1->widgetsnbextension~=3.5.0->ipywidgets>=7.0.0->pydeck>=0.1.dev5->streamlit>=0.79->streamlit_folium) (3.3.0)\n",
            "Requirement already satisfied: testpath in /usr/local/lib/python3.7/dist-packages (from nbconvert->notebook>=4.4.1->widgetsnbextension~=3.5.0->ipywidgets>=7.0.0->pydeck>=0.1.dev5->streamlit>=0.79->streamlit_folium) (0.5.0)\n",
            "Requirement already satisfied: mistune<2,>=0.8.1 in /usr/local/lib/python3.7/dist-packages (from nbconvert->notebook>=4.4.1->widgetsnbextension~=3.5.0->ipywidgets>=7.0.0->pydeck>=0.1.dev5->streamlit>=0.79->streamlit_folium) (0.8.4)\n",
            "Requirement already satisfied: defusedxml in /usr/local/lib/python3.7/dist-packages (from nbconvert->notebook>=4.4.1->widgetsnbextension~=3.5.0->ipywidgets>=7.0.0->pydeck>=0.1.dev5->streamlit>=0.79->streamlit_folium) (0.7.1)\n",
            "Requirement already satisfied: pandocfilters>=1.4.1 in /usr/local/lib/python3.7/dist-packages (from nbconvert->notebook>=4.4.1->widgetsnbextension~=3.5.0->ipywidgets>=7.0.0->pydeck>=0.1.dev5->streamlit>=0.79->streamlit_folium) (1.4.3)\n",
            "Requirement already satisfied: webencodings in /usr/local/lib/python3.7/dist-packages (from bleach->nbconvert->notebook>=4.4.1->widgetsnbextension~=3.5.0->ipywidgets>=7.0.0->pydeck>=0.1.dev5->streamlit>=0.79->streamlit_folium) (0.5.1)\n",
            "\u001b[31mERROR: datascience 0.10.6 has requirement folium==0.2.1, but you'll have folium 0.12.1 which is incompatible.\u001b[0m\n",
            "Installing collected packages: folium, streamlit-folium\n",
            "  Found existing installation: folium 0.8.3\n",
            "    Uninstalling folium-0.8.3:\n",
            "      Successfully uninstalled folium-0.8.3\n",
            "Successfully installed folium-0.12.1 streamlit-folium-0.4.0\n"
          ],
          "name": "stdout"
        }
      ]
    },
    {
      "cell_type": "code",
      "metadata": {
        "id": "K9V9fLBnhMk6",
        "colab": {
          "base_uri": "https://localhost:8080/"
        },
        "outputId": "e419524b-bb85-4285-9e98-050e7f97668d"
      },
      "source": [
        "!wget https://bin.equinox.io/c/4VmDzA7iaHb/ngrok-stable-linux-amd64.zip  \n",
        "!unzip -qq ngrok-stable-linux-amd64.zip"
      ],
      "execution_count": null,
      "outputs": [
        {
          "output_type": "stream",
          "text": [
            "--2021-07-07 05:36:34--  https://bin.equinox.io/c/4VmDzA7iaHb/ngrok-stable-linux-amd64.zip\n",
            "Resolving bin.equinox.io (bin.equinox.io)... 54.83.2.115, 3.217.70.31, 52.4.65.107, ...\n",
            "Connecting to bin.equinox.io (bin.equinox.io)|54.83.2.115|:443... connected.\n",
            "HTTP request sent, awaiting response... 200 OK\n",
            "Length: 13832437 (13M) [application/octet-stream]\n",
            "Saving to: ‘ngrok-stable-linux-amd64.zip’\n",
            "\n",
            "ngrok-stable-linux- 100%[===================>]  13.19M  30.9MB/s    in 0.4s    \n",
            "\n",
            "2021-07-07 05:36:35 (30.9 MB/s) - ‘ngrok-stable-linux-amd64.zip’ saved [13832437/13832437]\n",
            "\n"
          ],
          "name": "stdout"
        }
      ]
    },
    {
      "cell_type": "code",
      "metadata": {
        "id": "91zwcomVhP8n",
        "colab": {
          "base_uri": "https://localhost:8080/"
        },
        "outputId": "8f7ec880-0db7-47d5-8886-90a3aee3d6cd"
      },
      "source": [
        "get_ipython().system_raw('./ngrok http 8501 &')\n",
        "! curl -s http://localhost:4040/api/tunnels | python3 -c \\\n",
        "    \"import sys, json; print(json.load(sys.stdin)['tunnels'][0]['public_url'])\"\n",
        "\n",
        "#go to the link generated from this to see the dashboard"
      ],
      "execution_count": null,
      "outputs": [
        {
          "output_type": "stream",
          "text": [
            "https://8b93ff93f59e.ngrok.io\n"
          ],
          "name": "stdout"
        }
      ]
    },
    {
      "cell_type": "code",
      "metadata": {
        "id": "vIqxL-0GBzLm",
        "colab": {
          "base_uri": "https://localhost:8080/"
        },
        "outputId": "cf0d989f-44be-401d-e73a-d764ccdd4dfd"
      },
      "source": [
        "#only make changes in this tab and nowhere else. List down the changes that you make by writing down a comment in the line that says changed\n",
        "%%writefile app.py\n",
        "import streamlit as st\n",
        "import folium\n",
        "import plotly.express as px\n",
        "import pandas as pd\n",
        "import plotly.express as px\n",
        "import numpy as np\n",
        "from streamlit_folium import folium_static\n",
        " \n",
        "def generate_area(x):\n",
        "    x=x.split(\",\")\n",
        "    try :\n",
        "      return x[-2]\n",
        "    except IndexError:\n",
        "      return x[-1]\n",
        " \n",
        " \n",
        "def app_layout():\n",
        "  #car_info=pd.read_csv(\"/content/Car-information.csv\",encoding=\"utf_32\")\n",
        "  chargin_station_location=pd.read_csv(\"/content/electric_vehicle_charging_station_list.csv\")\n",
        "  chargin_station_location['area']=chargin_station_location['address'].apply(lambda x:generate_area(x))\n",
        "  sales=pd.read_csv(\"/content/sales_EV.csv\")\n",
        "  st.sidebar.title(\"Evlytical\")\n",
        "  tab=st.sidebar.radio(\"Choose the tab\",(\"EV Sales\",\"Charging station\",\"Calculator\"))\n",
        "  if tab=='EV Sales':\n",
        "    st.title(\"**EV Sales**\")\n",
        "    temp=sales.groupby(\"Year\")['Total Count'].agg('sum').reset_index()\n",
        "    temp=temp[temp['Total Count']==max(temp['Total Count'])]\n",
        "    avg=round(np.mean(sales['Total Count']))\n",
        "    tot=np.sum(sales['Total Count'])\n",
        "    col1,col2,col3=st.beta_columns(3)\n",
        "    with col3:\n",
        "      st.subheader(\"Maximum EVs where sold in the year {}\".format(temp.iloc[0]['Year']))\n",
        "      st.subheader(temp.iloc[0]['Total Count'])\n",
        "    with col2:\n",
        "      st.subheader(\"Average EVs sold every month\")\n",
        "      st.subheader(avg)\n",
        "    with col1:\n",
        "      st.subheader(\"Total EVs sold until now \")\n",
        "      st.subheader(tot)\n",
        "    col1,col2=st.beta_columns(2)\n",
        "    typ=col1.radio(\"EV Type\",(\"Solar\",\"Electric\"))\n",
        "    check=col2.multiselect(\"Selling Year \",[2017,2018,2019,2020])\n",
        "    temp=sales[(sales['Year'].isin(check))&(sales['Fuel']==typ)]\n",
        "    fig=px.line(temp,x='Month',y='Total Count',color='Year',title='Selling of EVs over time ')\n",
        "    col1,col2=st.beta_columns([3,2])\n",
        "    col1.plotly_chart(fig)\n",
        "    grouped_temp=temp.groupby('Year')['Total Count'].agg('sum').reset_index()\n",
        "    fig=px.bar(grouped_temp,x=\"Year\",y=\"Total Count\",title='Cars sold across the whole year')\n",
        "    col2.plotly_chart(fig)\n",
        "  elif tab==\"Charging station\":\n",
        "    india_map=folium.Map(zoom_start=6,location=[22,77])\n",
        "    for index,row in chargin_station_location.iterrows():\n",
        "      folium.Marker(location=[row['latitude'],row['longitude']],\n",
        "                          popup=folium.Popup(row['area'])\n",
        "                          ).add_to(india_map)\n",
        "    st.title(\"Charging Station Locations in india\")\n",
        "    folium_static(india_map,height=500,width=1300)\n",
        "    st.header(\"Further info about charging stations\")\n",
        "    col1,col2=st.beta_columns(2)\n",
        "    with col1:\n",
        "      st.subheader(\"Type of station\")\n",
        "      type_donut_data=chargin_station_location.groupby('type')['no'].agg('count').reset_index()\n",
        "      type_donut=px.pie(values=type_donut_data['no'],names=type_donut_data['type'])\n",
        "      st.plotly_chart(type_donut)\n",
        "    with col2:\n",
        "      st.subheader(\"Distribution by Region\")\n",
        "      region_donut_data=chargin_station_location.groupby('region')['no'].agg('count').reset_index()\n",
        "      region_donut=px.pie(values=region_donut_data['no'],names=region_donut_data['region'])\n",
        "      st.plotly_chart(region_donut)\n",
        "  elif tab=='Calculator':\n",
        "    st.title(\"Cost and Fuel Saving Calculator\")\n",
        "    distance=st.slider(\"Weekly Distance\",min_value=0,max_value=500)\n",
        "    price=st.slider(\"Fuel Price\",min_value=10,max_value=120)\n",
        "    mileage=20\n",
        "    st.header(\"Weekly Savings\")\n",
        "    col1,col2,col3=st.beta_columns(3)\n",
        "    \n",
        "    with col1:\n",
        "      st.subheader(\"Total Cost Saved\")\n",
        "      st.subheader(round((distance/mileage)*price,2))\n",
        "    with col2:\n",
        "      st.subheader(\"Total Fuel Saved\")\n",
        "      st.subheader(\"{} Litres\".format(distance//15))\n",
        "    with col3:\n",
        "      st.subheader(\"CO2 emissions avoided\")\n",
        "      st.subheader(\"{:.2f} Kilogram\".format((distance/15)*0.121))\n",
        "    st.header(\"Yearly Savings\")\n",
        "    col1,col2,col3=st.beta_columns(3)\n",
        "    \n",
        "    with col1:\n",
        "      st.subheader(\"Total Cost Saved\")\n",
        "      st.subheader(round((distance/mileage)*price*53,2))\n",
        "    with col2:\n",
        "      st.subheader(\"Total Fuel Saved\")\n",
        "      st.subheader(\"{:.2f} Litres\".format((distance//15)*53))\n",
        "    with col3:\n",
        "      st.subheader(\"CO2 emissions avoided\")\n",
        "      st.subheader(\"{:.2f} Kilogram\".format((distance/15)*0.121*53))\n",
        " \n",
        " \n",
        "if __name__=='__main__':\n",
        "  app_layout()"
      ],
      "execution_count": null,
      "outputs": [
        {
          "output_type": "stream",
          "text": [
            "Writing app.py\n"
          ],
          "name": "stdout"
        }
      ]
    },
    {
      "cell_type": "markdown",
      "metadata": {
        "id": "RZTOzaOHh4JZ"
      },
      "source": [
        "# run this once and make changes in the app.py and rerun from the app to see the changes in the link above.Do not make any changes over here"
      ]
    },
    {
      "cell_type": "code",
      "metadata": {
        "id": "Ed2FIfoGhWV0",
        "colab": {
          "base_uri": "https://localhost:8080/"
        },
        "outputId": "f228b8f3-a338-42f4-9175-d2b6c3411c31"
      },
      "source": [
        "!streamlit run app.py"
      ],
      "execution_count": null,
      "outputs": [
        {
          "output_type": "stream",
          "text": [
            "\u001b[0m\n",
            "\u001b[34m\u001b[1m  You can now view your Streamlit app in your browser.\u001b[0m\n",
            "\u001b[0m\n",
            "\u001b[34m  Network URL: \u001b[0m\u001b[1mhttp://172.28.0.2:8501\u001b[0m\n",
            "\u001b[34m  External URL: \u001b[0m\u001b[1mhttp://35.243.180.72:8501\u001b[0m\n",
            "\u001b[0m\n",
            "2021-07-07 05:38:12.469 NumExpr defaulting to 2 threads.\n",
            "\u001b[34m  Stopping...\u001b[0m\n"
          ],
          "name": "stdout"
        }
      ]
    },
    {
      "cell_type": "code",
      "metadata": {
        "id": "dvLRx__OLVQ2"
      },
      "source": [
        ""
      ],
      "execution_count": null,
      "outputs": []
    }
  ]
}